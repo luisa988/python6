{
  "nbformat": 4,
  "nbformat_minor": 0,
  "metadata": {
    "colab": {
      "provenance": [],
      "authorship_tag": "ABX9TyNU5BKfkAZ5tlNWYQdHHFRr",
      "include_colab_link": true
    },
    "kernelspec": {
      "name": "python3",
      "display_name": "Python 3"
    },
    "language_info": {
      "name": "python"
    }
  },
  "cells": [
    {
      "cell_type": "markdown",
      "metadata": {
        "id": "view-in-github",
        "colab_type": "text"
      },
      "source": [
        "<a href=\"https://colab.research.google.com/github/luisa988/python6/blob/main/LLZS_PY_ACT6.ipynb\" target=\"_parent\"><img src=\"https://colab.research.google.com/assets/colab-badge.svg\" alt=\"Open In Colab\"/></a>"
      ]
    },
    {
      "cell_type": "code",
      "source": [
        "from IPython.display import clear_output\n",
        "import random"
      ],
      "metadata": {
        "id": "0FTzbK6itN7N"
      },
      "execution_count": null,
      "outputs": []
    },
    {
      "cell_type": "code",
      "source": [
        "while True:\n",
        "    op=input(\"Escoge una opcion\")\n",
        "    if op == \"1\":\n",
        "        opcion1()\n",
        "    elif op == \"2\":\n",
        "        opcion2()\n",
        "    elif op == \"3\":\n",
        "        opcion3()\n",
        "    elif op == \"4\":\n",
        "        opcion4()\n",
        "    elif op == \"5\":\n",
        "        opcion5()\n",
        "    elif op == \"0\":\n",
        "        break\n",
        "    else:\n",
        "            print(\"Opción inválida. Inténtalo de nuevo.\")\n"
      ],
      "metadata": {
        "colab": {
          "base_uri": "https://localhost:8080/"
        },
        "id": "vUpluGYBtkH5",
        "outputId": "fba3eb58-5443-4f9e-d31f-fe491afcab9e"
      },
      "execution_count": 125,
      "outputs": [
        {
          "name": "stdout",
          "output_type": "stream",
          "text": [
            "Escoge una opcion1\n",
            "Dame un número: 23\n",
            "1. Continuar 0. Salir: 1\n",
            "Dame un número: 33\n",
            "1. Continuar 0. Salir: 1\n",
            "Dame un número: 44\n",
            "1. Continuar 0. Salir: 0\n",
            "Suma de los números: 100\n",
            "Media de los números: 33.333333333333336\n",
            "Valor máximo: 44\n",
            "Valor mínimo: 23\n",
            "Escoge una opcion2\n",
            "Números impares generados: [31, 47]\n",
            "Media de los números impares: 39.0\n",
            "Números pares generados: [34, 16, 48, 30, 26, 24, 50, 34, 54, 30, 60, 34, 48]\n",
            "Media de los números pares: 37.53846153846154\n",
            "Escoge una opcion3\n",
            "Ingrese el número de inicio del rango: 1\n",
            "Ingrese el número final del rango: 10\n",
            "¿Desea ingresar otro rango de números? (s/n): n\n",
            "Cantidad de números ingresados: 10\n",
            "Promedio de los números: 5.5\n",
            "Escoge una opcion4\n",
            "Ingrese el valor de la base del triángulo: 12\n",
            "Ingrese el valor de la altura del triángulo: 23\n",
            "El área del triángulo es: 138.0\n",
            "Escoge una opcion5\n",
            "Ingrese la primera calificación: 55\n",
            "Ingrese la segunda calificación: 55\n",
            "Ingrese la tercera calificación: 60\n",
            "Repetir materia.\n",
            "Ingrese la primera calificación: 100\n",
            "Ingrese la segunda calificación: 100\n",
            "Ingrese la tercera calificación: 100\n",
            "¡Felicidades! Avanzas al siguiente semestre.\n",
            "Escoge una opcion0\n"
          ]
        }
      ]
    },
    {
      "cell_type": "code",
      "source": [
        "def opcion1():\n",
        "    numeros = []\n",
        "    suma = 0\n",
        "\n",
        "    while True:\n",
        "        num = int(input(\"Dame un número: \"))\n",
        "        suma += num\n",
        "        numeros.append(num)\n",
        "        resp = input(\"1. Continuar 0. Salir: \")\n",
        "        if resp == \"0\":\n",
        "            break\n",
        "\n",
        "    if len(numeros) == 0:\n",
        "        print(\"No se ingresaron números.\")\n",
        "    else:\n",
        "        media = suma / len(numeros)\n",
        "        maximo = max(numeros)\n",
        "        minimo = min(numeros)\n",
        "\n",
        "        print(\"Suma de los números:\", suma)\n",
        "        print(\"Media de los números:\", media)\n",
        "        print(\"Valor máximo:\", maximo)\n",
        "        print(\"Valor mínimo:\", minimo)\n"
      ],
      "metadata": {
        "id": "GFH78m5U0lXP"
      },
      "execution_count": 84,
      "outputs": []
    },
    {
      "cell_type": "code",
      "source": [
        "import random\n",
        "def opcion2():\n",
        "    impares = []\n",
        "    pares = []\n",
        "\n",
        "    for _ in range(25):\n",
        "        x = random.randint(10, 60)\n",
        "        if x % 2 != 0:\n",
        "            impares.append(x)\n",
        "        else:\n",
        "            pares.append(x)\n",
        "\n",
        "    media_impares = sum(impares) / len(impares)\n",
        "    media_pares = sum(pares) / len(pares)\n",
        "\n",
        "    print(\"Números impares generados:\", impares)\n",
        "    print(\"Media de los números impares:\", media_impares)\n",
        "    print(\"Números pares generados:\", pares)\n",
        "    print(\"Media de los números pares:\", media_pares)\n"
      ],
      "metadata": {
        "id": "kEQUecEbHZHO"
      },
      "execution_count": 108,
      "outputs": []
    },
    {
      "cell_type": "code",
      "source": [
        "def opcion3():\n",
        "    numeros = []\n",
        "    continuar = True\n",
        "\n",
        "    while continuar:\n",
        "        inicio = int(input(\"Ingrese el número de inicio del rango: \"))\n",
        "        fin = int(input(\"Ingrese el número final del rango: \"))\n",
        "\n",
        "        for num in range(inicio, fin + 1):\n",
        "            numeros.append(num)\n",
        "\n",
        "        opcion = input(\"¿Desea ingresar otro rango de números? (s/n): \")\n",
        "        if opcion.lower() != \"s\":\n",
        "            continuar = False\n",
        "\n",
        "    cantidad_numeros = len(numeros)\n",
        "    promedio = sum(numeros) / cantidad_numeros\n",
        "\n",
        "    print(\"Cantidad de números ingresados:\", cantidad_numeros)\n",
        "    print(\"Promedio de los números:\", promedio)\n",
        "\n",
        "\n"
      ],
      "metadata": {
        "id": "aWwlGBiFH7l4"
      },
      "execution_count": 123,
      "outputs": []
    },
    {
      "cell_type": "code",
      "source": [
        "def calcular_area(base, altura):\n",
        "    area = (base * altura) / 2\n",
        "    return area\n",
        "\n",
        "def opcion4():\n",
        "    base = float(input(\"Ingrese el valor de la base del triángulo: \"))\n",
        "    altura = float(input(\"Ingrese el valor de la altura del triángulo: \"))\n",
        "\n",
        "    resultado = calcular_area(base, altura)\n",
        "    print(\"El área del triángulo es:\", resultado)\n"
      ],
      "metadata": {
        "id": "UKvR9C7jIVTV"
      },
      "execution_count": 118,
      "outputs": []
    },
    {
      "cell_type": "code",
      "source": [
        "def opcion5():\n",
        "    try:\n",
        "        calificacion1 = float(input(\"Ingrese la primera calificación: \"))\n",
        "        calificacion2 = float(input(\"Ingrese la segunda calificación: \"))\n",
        "        calificacion3 = float(input(\"Ingrese la tercera calificación: \"))\n",
        "\n",
        "        promedio = (calificacion1 + calificacion2 + calificacion3) / 3\n",
        "\n",
        "        if promedio >= 70:\n",
        "            print(\"¡Felicidades! Avanzas al siguiente semestre.\")\n",
        "        else:\n",
        "            print(\"Repetir materia.\")\n",
        "            veces_reprobadas = 1\n",
        "\n",
        "            while veces_reprobadas < 3:\n",
        "                calificacion1 = float(input(\"Ingrese la primera calificación: \"))\n",
        "                calificacion2 = float(input(\"Ingrese la segunda calificación: \"))\n",
        "                calificacion3 = float(input(\"Ingrese la tercera calificación: \"))\n",
        "\n",
        "                promedio = (calificacion1 + calificacion2 + calificacion3) / 3\n",
        "\n",
        "                if promedio >= 70:\n",
        "                    print(\"¡Felicidades! Avanzas al siguiente semestre.\")\n",
        "                    break\n",
        "                else:\n",
        "                    print(\"Repetir materia.\")\n",
        "                    veces_reprobadas += 1\n",
        "\n",
        "            if veces_reprobadas == 3:\n",
        "                print(\"¡Lástima! Estás fuera de la UABC.\")\n",
        "\n",
        "    except ValueError:\n",
        "        print(\"Error: Las calificaciones deben ser números.\")\n",
        "\n"
      ],
      "metadata": {
        "id": "79D-UjZwKXZC"
      },
      "execution_count": 120,
      "outputs": []
    }
  ]
}